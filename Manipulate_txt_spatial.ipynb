{
  "nbformat": 4,
  "nbformat_minor": 0,
  "metadata": {
    "colab": {
      "name": "Manipulate_txt_spatial.ipynb",
      "provenance": []
    },
    "kernelspec": {
      "name": "python3",
      "display_name": "Python 3"
    },
    "language_info": {
      "name": "python"
    }
  },
  "cells": [
    {
      "cell_type": "markdown",
      "metadata": {
        "id": "PTpegVb_xgPG"
      },
      "source": [
        "##Import pandas and read csv"
      ]
    },
    {
      "cell_type": "code",
      "metadata": {
        "id": "8Vrvs0tBwR-u"
      },
      "source": [
        "import pandas as pd\n",
        "df = pd.read_csv('/content/hermes_attica.txt')"
      ],
      "execution_count": 11,
      "outputs": []
    },
    {
      "cell_type": "code",
      "metadata": {
        "colab": {
          "base_uri": "https://localhost:8080/",
          "height": 419
        },
        "id": "HZGJSXaezvVr",
        "outputId": "e5c1c91d-1724-49db-dc15-2fa4b9716dad"
      },
      "source": [
        "df"
      ],
      "execution_count": 20,
      "outputs": [
        {
          "output_type": "execute_result",
          "data": {
            "text/html": [
              "<div>\n",
              "<style scoped>\n",
              "    .dataframe tbody tr th:only-of-type {\n",
              "        vertical-align: middle;\n",
              "    }\n",
              "\n",
              "    .dataframe tbody tr th {\n",
              "        vertical-align: top;\n",
              "    }\n",
              "\n",
              "    .dataframe thead th {\n",
              "        text-align: right;\n",
              "    }\n",
              "</style>\n",
              "<table border=\"1\" class=\"dataframe\">\n",
              "  <thead>\n",
              "    <tr style=\"text-align: right;\">\n",
              "      <th></th>\n",
              "      <th>obj_id</th>\n",
              "      <th>traj_id</th>\n",
              "      <th>subtraj_id</th>\n",
              "      <th>t</th>\n",
              "      <th>lon</th>\n",
              "      <th>lat</th>\n",
              "      <th>episode</th>\n",
              "      <th>tags</th>\n",
              "    </tr>\n",
              "  </thead>\n",
              "  <tbody>\n",
              "    <tr>\n",
              "      <th>0</th>\n",
              "      <td>0</td>\n",
              "      <td>1</td>\n",
              "      <td>1</td>\n",
              "      <td>2013-05-08 00:00:00</td>\n",
              "      <td>23.689793</td>\n",
              "      <td>37.981186</td>\n",
              "      <td>STOP</td>\n",
              "      <td>HOME;RELAXING</td>\n",
              "    </tr>\n",
              "    <tr>\n",
              "      <th>1</th>\n",
              "      <td>1</td>\n",
              "      <td>1</td>\n",
              "      <td>1</td>\n",
              "      <td>2013-05-08 00:00:00</td>\n",
              "      <td>23.674541</td>\n",
              "      <td>37.972023</td>\n",
              "      <td>STOP</td>\n",
              "      <td>HOME;RELAXING</td>\n",
              "    </tr>\n",
              "    <tr>\n",
              "      <th>2</th>\n",
              "      <td>2</td>\n",
              "      <td>1</td>\n",
              "      <td>1</td>\n",
              "      <td>2013-05-08 00:00:00</td>\n",
              "      <td>23.678286</td>\n",
              "      <td>37.969555</td>\n",
              "      <td>STOP</td>\n",
              "      <td>HOME;RELAXING</td>\n",
              "    </tr>\n",
              "    <tr>\n",
              "      <th>3</th>\n",
              "      <td>3</td>\n",
              "      <td>1</td>\n",
              "      <td>1</td>\n",
              "      <td>2013-05-08 00:00:00</td>\n",
              "      <td>23.680568</td>\n",
              "      <td>37.981720</td>\n",
              "      <td>STOP</td>\n",
              "      <td>HOME;RELAXING</td>\n",
              "    </tr>\n",
              "    <tr>\n",
              "      <th>4</th>\n",
              "      <td>4</td>\n",
              "      <td>1</td>\n",
              "      <td>1</td>\n",
              "      <td>2013-05-08 00:00:00</td>\n",
              "      <td>23.698814</td>\n",
              "      <td>37.986094</td>\n",
              "      <td>STOP</td>\n",
              "      <td>HOME;RELAXING</td>\n",
              "    </tr>\n",
              "    <tr>\n",
              "      <th>...</th>\n",
              "      <td>...</td>\n",
              "      <td>...</td>\n",
              "      <td>...</td>\n",
              "      <td>...</td>\n",
              "      <td>...</td>\n",
              "      <td>...</td>\n",
              "      <td>...</td>\n",
              "      <td>...</td>\n",
              "    </tr>\n",
              "    <tr>\n",
              "      <th>1450733</th>\n",
              "      <td>4987</td>\n",
              "      <td>1</td>\n",
              "      <td>5</td>\n",
              "      <td>2013-05-08 23:59:50</td>\n",
              "      <td>23.736674</td>\n",
              "      <td>38.050924</td>\n",
              "      <td>STOP</td>\n",
              "      <td>HOME;RELAXING</td>\n",
              "    </tr>\n",
              "    <tr>\n",
              "      <th>1450734</th>\n",
              "      <td>4988</td>\n",
              "      <td>1</td>\n",
              "      <td>5</td>\n",
              "      <td>2013-05-08 23:59:50</td>\n",
              "      <td>23.735085</td>\n",
              "      <td>38.046017</td>\n",
              "      <td>STOP</td>\n",
              "      <td>HOME;RELAXING</td>\n",
              "    </tr>\n",
              "    <tr>\n",
              "      <th>1450735</th>\n",
              "      <td>4989</td>\n",
              "      <td>1</td>\n",
              "      <td>5</td>\n",
              "      <td>2013-05-08 23:59:50</td>\n",
              "      <td>23.727688</td>\n",
              "      <td>38.033770</td>\n",
              "      <td>STOP</td>\n",
              "      <td>HOME;RELAXING</td>\n",
              "    </tr>\n",
              "    <tr>\n",
              "      <th>1450736</th>\n",
              "      <td>4990</td>\n",
              "      <td>1</td>\n",
              "      <td>5</td>\n",
              "      <td>2013-05-08 23:59:50</td>\n",
              "      <td>23.729743</td>\n",
              "      <td>38.035929</td>\n",
              "      <td>STOP</td>\n",
              "      <td>HOME;RELAXING</td>\n",
              "    </tr>\n",
              "    <tr>\n",
              "      <th>1450737</th>\n",
              "      <td>4992</td>\n",
              "      <td>1</td>\n",
              "      <td>5</td>\n",
              "      <td>2013-05-08 23:59:50</td>\n",
              "      <td>23.727688</td>\n",
              "      <td>38.033770</td>\n",
              "      <td>STOP</td>\n",
              "      <td>HOME;RELAXING</td>\n",
              "    </tr>\n",
              "  </tbody>\n",
              "</table>\n",
              "<p>1450738 rows × 8 columns</p>\n",
              "</div>"
            ],
            "text/plain": [
              "         obj_id  traj_id  subtraj_id  ...        lat  episode           tags\n",
              "0             0        1           1  ...  37.981186     STOP  HOME;RELAXING\n",
              "1             1        1           1  ...  37.972023     STOP  HOME;RELAXING\n",
              "2             2        1           1  ...  37.969555     STOP  HOME;RELAXING\n",
              "3             3        1           1  ...  37.981720     STOP  HOME;RELAXING\n",
              "4             4        1           1  ...  37.986094     STOP  HOME;RELAXING\n",
              "...         ...      ...         ...  ...        ...      ...            ...\n",
              "1450733    4987        1           5  ...  38.050924     STOP  HOME;RELAXING\n",
              "1450734    4988        1           5  ...  38.046017     STOP  HOME;RELAXING\n",
              "1450735    4989        1           5  ...  38.033770     STOP  HOME;RELAXING\n",
              "1450736    4990        1           5  ...  38.035929     STOP  HOME;RELAXING\n",
              "1450737    4992        1           5  ...  38.033770     STOP  HOME;RELAXING\n",
              "\n",
              "[1450738 rows x 8 columns]"
            ]
          },
          "metadata": {
            "tags": []
          },
          "execution_count": 20
        }
      ]
    },
    {
      "cell_type": "code",
      "metadata": {
        "colab": {
          "base_uri": "https://localhost:8080/"
        },
        "id": "sbzaRIXT1JW0",
        "outputId": "c24eb485-283f-4c5d-c0c4-d70b8b710f4c"
      },
      "source": [
        "len(df)"
      ],
      "execution_count": 13,
      "outputs": [
        {
          "output_type": "execute_result",
          "data": {
            "text/plain": [
              "1450738"
            ]
          },
          "metadata": {
            "tags": []
          },
          "execution_count": 13
        }
      ]
    },
    {
      "cell_type": "markdown",
      "metadata": {
        "id": "LHe0UfInxtKP"
      },
      "source": [
        "##Manipulate Hermes Attika Spatial Dataset"
      ]
    },
    {
      "cell_type": "code",
      "metadata": {
        "colab": {
          "base_uri": "https://localhost:8080/",
          "height": 419
        },
        "id": "fkSlyjLcxyNY",
        "outputId": "f5600f62-7bb5-4829-a01f-78c682fbe19f"
      },
      "source": [
        "#todo\n",
        "newDF = df[['obj_id','lat', 'lon']]\n",
        "newDF"
      ],
      "execution_count": 22,
      "outputs": [
        {
          "output_type": "execute_result",
          "data": {
            "text/html": [
              "<div>\n",
              "<style scoped>\n",
              "    .dataframe tbody tr th:only-of-type {\n",
              "        vertical-align: middle;\n",
              "    }\n",
              "\n",
              "    .dataframe tbody tr th {\n",
              "        vertical-align: top;\n",
              "    }\n",
              "\n",
              "    .dataframe thead th {\n",
              "        text-align: right;\n",
              "    }\n",
              "</style>\n",
              "<table border=\"1\" class=\"dataframe\">\n",
              "  <thead>\n",
              "    <tr style=\"text-align: right;\">\n",
              "      <th></th>\n",
              "      <th>obj_id</th>\n",
              "      <th>lat</th>\n",
              "      <th>lon</th>\n",
              "    </tr>\n",
              "  </thead>\n",
              "  <tbody>\n",
              "    <tr>\n",
              "      <th>0</th>\n",
              "      <td>0</td>\n",
              "      <td>37.981186</td>\n",
              "      <td>23.689793</td>\n",
              "    </tr>\n",
              "    <tr>\n",
              "      <th>1</th>\n",
              "      <td>1</td>\n",
              "      <td>37.972023</td>\n",
              "      <td>23.674541</td>\n",
              "    </tr>\n",
              "    <tr>\n",
              "      <th>2</th>\n",
              "      <td>2</td>\n",
              "      <td>37.969555</td>\n",
              "      <td>23.678286</td>\n",
              "    </tr>\n",
              "    <tr>\n",
              "      <th>3</th>\n",
              "      <td>3</td>\n",
              "      <td>37.981720</td>\n",
              "      <td>23.680568</td>\n",
              "    </tr>\n",
              "    <tr>\n",
              "      <th>4</th>\n",
              "      <td>4</td>\n",
              "      <td>37.986094</td>\n",
              "      <td>23.698814</td>\n",
              "    </tr>\n",
              "    <tr>\n",
              "      <th>...</th>\n",
              "      <td>...</td>\n",
              "      <td>...</td>\n",
              "      <td>...</td>\n",
              "    </tr>\n",
              "    <tr>\n",
              "      <th>1450733</th>\n",
              "      <td>4987</td>\n",
              "      <td>38.050924</td>\n",
              "      <td>23.736674</td>\n",
              "    </tr>\n",
              "    <tr>\n",
              "      <th>1450734</th>\n",
              "      <td>4988</td>\n",
              "      <td>38.046017</td>\n",
              "      <td>23.735085</td>\n",
              "    </tr>\n",
              "    <tr>\n",
              "      <th>1450735</th>\n",
              "      <td>4989</td>\n",
              "      <td>38.033770</td>\n",
              "      <td>23.727688</td>\n",
              "    </tr>\n",
              "    <tr>\n",
              "      <th>1450736</th>\n",
              "      <td>4990</td>\n",
              "      <td>38.035929</td>\n",
              "      <td>23.729743</td>\n",
              "    </tr>\n",
              "    <tr>\n",
              "      <th>1450737</th>\n",
              "      <td>4992</td>\n",
              "      <td>38.033770</td>\n",
              "      <td>23.727688</td>\n",
              "    </tr>\n",
              "  </tbody>\n",
              "</table>\n",
              "<p>1450738 rows × 3 columns</p>\n",
              "</div>"
            ],
            "text/plain": [
              "         obj_id        lat        lon\n",
              "0             0  37.981186  23.689793\n",
              "1             1  37.972023  23.674541\n",
              "2             2  37.969555  23.678286\n",
              "3             3  37.981720  23.680568\n",
              "4             4  37.986094  23.698814\n",
              "...         ...        ...        ...\n",
              "1450733    4987  38.050924  23.736674\n",
              "1450734    4988  38.046017  23.735085\n",
              "1450735    4989  38.033770  23.727688\n",
              "1450736    4990  38.035929  23.729743\n",
              "1450737    4992  38.033770  23.727688\n",
              "\n",
              "[1450738 rows x 3 columns]"
            ]
          },
          "metadata": {
            "tags": []
          },
          "execution_count": 22
        }
      ]
    },
    {
      "cell_type": "markdown",
      "metadata": {
        "id": "x4CSAkRlxaW_"
      },
      "source": [
        "##Dataframe to CSV"
      ]
    },
    {
      "cell_type": "code",
      "metadata": {
        "id": "12SQfR4gxZjp"
      },
      "source": [
        "#newDF.to_csv('/content/spatial_data_1450738.csv')"
      ],
      "execution_count": 25,
      "outputs": []
    },
    {
      "cell_type": "code",
      "metadata": {
        "id": "NlipurXJ5Nfn"
      },
      "source": [
        "mpla = pd.read_csv('/content/spatial_data_1450738.csv')"
      ],
      "execution_count": 28,
      "outputs": []
    },
    {
      "cell_type": "code",
      "metadata": {
        "id": "Y_ZZf1qt5R4z",
        "outputId": "30df2dd8-2ea5-4307-c3e8-fd343485aa13",
        "colab": {
          "base_uri": "https://localhost:8080/",
          "height": 419
        }
      },
      "source": [
        "mpla"
      ],
      "execution_count": 29,
      "outputs": [
        {
          "output_type": "execute_result",
          "data": {
            "text/html": [
              "<div>\n",
              "<style scoped>\n",
              "    .dataframe tbody tr th:only-of-type {\n",
              "        vertical-align: middle;\n",
              "    }\n",
              "\n",
              "    .dataframe tbody tr th {\n",
              "        vertical-align: top;\n",
              "    }\n",
              "\n",
              "    .dataframe thead th {\n",
              "        text-align: right;\n",
              "    }\n",
              "</style>\n",
              "<table border=\"1\" class=\"dataframe\">\n",
              "  <thead>\n",
              "    <tr style=\"text-align: right;\">\n",
              "      <th></th>\n",
              "      <th>Unnamed: 0</th>\n",
              "      <th>obj_id</th>\n",
              "      <th>lat</th>\n",
              "      <th>lon</th>\n",
              "    </tr>\n",
              "  </thead>\n",
              "  <tbody>\n",
              "    <tr>\n",
              "      <th>0</th>\n",
              "      <td>0</td>\n",
              "      <td>0</td>\n",
              "      <td>37.981186</td>\n",
              "      <td>23.689793</td>\n",
              "    </tr>\n",
              "    <tr>\n",
              "      <th>1</th>\n",
              "      <td>1</td>\n",
              "      <td>1</td>\n",
              "      <td>37.972023</td>\n",
              "      <td>23.674541</td>\n",
              "    </tr>\n",
              "    <tr>\n",
              "      <th>2</th>\n",
              "      <td>2</td>\n",
              "      <td>2</td>\n",
              "      <td>37.969555</td>\n",
              "      <td>23.678286</td>\n",
              "    </tr>\n",
              "    <tr>\n",
              "      <th>3</th>\n",
              "      <td>3</td>\n",
              "      <td>3</td>\n",
              "      <td>37.981720</td>\n",
              "      <td>23.680568</td>\n",
              "    </tr>\n",
              "    <tr>\n",
              "      <th>4</th>\n",
              "      <td>4</td>\n",
              "      <td>4</td>\n",
              "      <td>37.986094</td>\n",
              "      <td>23.698814</td>\n",
              "    </tr>\n",
              "    <tr>\n",
              "      <th>...</th>\n",
              "      <td>...</td>\n",
              "      <td>...</td>\n",
              "      <td>...</td>\n",
              "      <td>...</td>\n",
              "    </tr>\n",
              "    <tr>\n",
              "      <th>1450733</th>\n",
              "      <td>1450733</td>\n",
              "      <td>4987</td>\n",
              "      <td>38.050924</td>\n",
              "      <td>23.736674</td>\n",
              "    </tr>\n",
              "    <tr>\n",
              "      <th>1450734</th>\n",
              "      <td>1450734</td>\n",
              "      <td>4988</td>\n",
              "      <td>38.046017</td>\n",
              "      <td>23.735085</td>\n",
              "    </tr>\n",
              "    <tr>\n",
              "      <th>1450735</th>\n",
              "      <td>1450735</td>\n",
              "      <td>4989</td>\n",
              "      <td>38.033770</td>\n",
              "      <td>23.727688</td>\n",
              "    </tr>\n",
              "    <tr>\n",
              "      <th>1450736</th>\n",
              "      <td>1450736</td>\n",
              "      <td>4990</td>\n",
              "      <td>38.035929</td>\n",
              "      <td>23.729743</td>\n",
              "    </tr>\n",
              "    <tr>\n",
              "      <th>1450737</th>\n",
              "      <td>1450737</td>\n",
              "      <td>4992</td>\n",
              "      <td>38.033770</td>\n",
              "      <td>23.727688</td>\n",
              "    </tr>\n",
              "  </tbody>\n",
              "</table>\n",
              "<p>1450738 rows × 4 columns</p>\n",
              "</div>"
            ],
            "text/plain": [
              "         Unnamed: 0  obj_id        lat        lon\n",
              "0                 0       0  37.981186  23.689793\n",
              "1                 1       1  37.972023  23.674541\n",
              "2                 2       2  37.969555  23.678286\n",
              "3                 3       3  37.981720  23.680568\n",
              "4                 4       4  37.986094  23.698814\n",
              "...             ...     ...        ...        ...\n",
              "1450733     1450733    4987  38.050924  23.736674\n",
              "1450734     1450734    4988  38.046017  23.735085\n",
              "1450735     1450735    4989  38.033770  23.727688\n",
              "1450736     1450736    4990  38.035929  23.729743\n",
              "1450737     1450737    4992  38.033770  23.727688\n",
              "\n",
              "[1450738 rows x 4 columns]"
            ]
          },
          "metadata": {
            "tags": []
          },
          "execution_count": 29
        }
      ]
    }
  ]
}